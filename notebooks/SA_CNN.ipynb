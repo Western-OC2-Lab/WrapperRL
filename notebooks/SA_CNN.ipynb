{
 "cells": [
  {
   "cell_type": "code",
   "execution_count": 1,
   "id": "49454d31",
   "metadata": {},
   "outputs": [],
   "source": [
    "from torchvision import transforms\n",
    "\n",
    "\n",
    "train_val_transforms = transforms.Compose(\n",
    "    [\n",
    "        transforms.CenterCrop(72),\n",
    "        transforms.ToTensor(),\n",
    "        transforms.Normalize([\n",
    "            0.0004, 0.00041, 0.00041\n",
    "        ], [\n",
    "           0.0003, 0.00037, 0.00039\n",
    "        ])\n",
    "    ]\n",
    ")\n",
    "\n",
    "generated_image_transform = transforms.Compose([\n",
    "    transforms.Normalize([\n",
    "            0.0004, 0.00041, 0.00041\n",
    "        ], [\n",
    "           0.0003, 0.00037, 0.00039\n",
    "        ])\n",
    "])\n",
    "\n",
    "reverse_image_transform = transforms.Normalize(mean = [\n",
    "            -0.0004/0.0003, -0.00041/0.00037, -0.00041/0.00039\n",
    "        ], std = [\n",
    "           1/0.0003, 1/0.00037, 1/0.00039\n",
    "        ])\n",
    "\n",
    "\n",
    "MODEL_DIR = \"../models\"\n",
    "DATASET_DIR = \"../datasets\"\n",
    "DATASET_NAME = \"img_dataset.csv\"\n",
    "IMGS_DIR = r\"D:\\WrapperRL_AAAI\\datasets\\generated_images\\log_all_features\""
   ]
  },
  {
   "cell_type": "code",
   "execution_count": 2,
   "id": "97315147",
   "metadata": {},
   "outputs": [],
   "source": [
    "from torch.utils.data import Dataset\n",
    "# import cv2\n",
    "import matplotlib.pyplot as plt\n",
    "from PIL import Image\n",
    "import numpy as np\n",
    "import torch\n",
    "\n",
    "class CustomImageLoadingDataset(Dataset):\n",
    "    \n",
    "    def __init__(self, csv, transform):\n",
    "        self.csv = csv\n",
    "        self.img_paths = self.csv.loc[:, 'img'].values\n",
    "        self.img_labels = self.csv.loc[:, 'process'].values\n",
    "        self.transform = transform\n",
    "        \n",
    "    def __len__(self):\n",
    "        return self.csv.shape[0]\n",
    "    \n",
    "    def __getitem__(self, idx):\n",
    "        img_path = self.img_paths[idx]\n",
    "        new_img_path = f\"{IMGS_DIR}/{img_path}\"\n",
    "\n",
    "        label = self.img_labels[idx]\n",
    "        \n",
    "        img = plt.imread(new_img_path)\n",
    "        img = Image.fromarray((img * 255).astype(np.uint8))\n",
    "\n",
    "        if self.transform is not None:\n",
    "            img = self.transform(img)\n",
    "        img = torch.div(img, 255)\n",
    "        \n",
    "            \n",
    "        return img, label, new_img_path"
   ]
  },
  {
   "cell_type": "code",
   "execution_count": 3,
   "id": "6056ac75",
   "metadata": {},
   "outputs": [],
   "source": [
    "import torch\n",
    "import torch.nn as nn\n",
    "\n",
    "class eca_layer(nn.Module):\n",
    "    \n",
    "    def __init__(self, channel, k_size = 3):\n",
    "        super(eca_layer, self).__init__()\n",
    "        self.avg_pool = nn.AdaptiveAvgPool2d(1)\n",
    "        self.conv = nn.Conv1d(1, 1, kernel_size = k_size, padding = (k_size - 1) // 2, bias = False)\n",
    "        self.sigmoid = nn.Sigmoid()\n",
    "        \n",
    "    def forward(self, x):\n",
    "        # feature descriptor on the global spatial information\n",
    "        y = self.avg_pool(x)\n",
    "\n",
    "        # Two different branches of ECA module\n",
    "        y = self.conv(y.squeeze(-1).transpose(-1, -2)).transpose(-1, -2).unsqueeze(-1)\n",
    "\n",
    "        # Multi-scale information fusion\n",
    "        y = self.sigmoid(y)\n",
    "\n",
    "        return x * y.expand_as(x), y\n",
    "    \n",
    "import torch\n",
    "import torch.nn as nn\n",
    "\n",
    "class Self_Attn(nn.Module):\n",
    "    \n",
    "    def __init__(self, in_dim, activation):\n",
    "        super(Self_Attn, self).__init__()\n",
    "        self.channel_in = in_dim\n",
    "        self.activation = activation\n",
    "        \n",
    "        self.query_conv = nn.Conv2d(in_channels = in_dim, out_channels = in_dim // 8, kernel_size = 1)\n",
    "        self.key_conv = nn.Conv2d(in_channels = in_dim, out_channels = in_dim // 8, kernel_size = 1)        \n",
    "        self.value_conv = nn.Conv2d(in_channels = in_dim, out_channels = in_dim, kernel_size = 1)\n",
    "        \n",
    "        self.gamma = nn.Parameter(torch.zeros(1))\n",
    "        self.softmax = nn.Softmax(dim = -1)\n",
    "        \n",
    "    \n",
    "    def forward(self, x):\n",
    "        \"\"\"\n",
    "            inputs: \n",
    "                x: input feature maps (B X C X W X H)\n",
    "                \n",
    "            returns:\n",
    "                out: self attention value + input_feature\n",
    "                attention: B X N X N (N is Width * Height)\n",
    "        \"\"\"\n",
    "        \n",
    "        m_batchsize,C,width ,height = x.size()\n",
    "        proj_query  = self.query_conv(x).view(m_batchsize,-1,width*height).permute(0,2,1) # B X CX(N)\n",
    "        proj_key =  self.key_conv(x).view(m_batchsize,-1,width*height) # B X C x (*W*H)\n",
    "        energy =  torch.bmm(proj_query,proj_key) # transpose check\n",
    "        attention = self.softmax(energy) # BX (N) X (N) \n",
    "        proj_value = self.value_conv(x).view(m_batchsize,-1,width*height) # B X C X N\n",
    "\n",
    "        out = torch.bmm(proj_value,attention.permute(0,2,1))\n",
    "        out = out.view(m_batchsize,C,width,height)\n",
    "        \n",
    "        out = self.gamma*out + x\n",
    "        \n",
    "        return out, attention"
   ]
  },
  {
   "cell_type": "code",
   "execution_count": 28,
   "id": "21e6201a",
   "metadata": {},
   "outputs": [],
   "source": [
    "import torch\n",
    "import torch.nn as nn\n",
    "import torch.nn.functional as F\n",
    "\n",
    "class CNN_Attn(nn.Module):\n",
    "    \n",
    "    def __init__(self):\n",
    "        super(CNN_Attn, self).__init__()\n",
    "        self.conv1 = nn.Conv2d(3, 10, kernel_size=5)\n",
    "        self.conv2 = nn.Conv2d(10, 20, kernel_size=5)\n",
    "        self.conv3 = nn.Conv2d(20, 30, kernel_size=5)\n",
    "        self.conv2_drop = nn.Dropout2d()\n",
    "        self.self_attn1 = eca_layer(3)\n",
    "\n",
    "        \n",
    "        self.attn1 = Self_Attn(20, 'relu')\n",
    "        self.attn2 = Self_Attn(30, 'relu')\n",
    "        self.fc1 = nn.Linear(750, 1)\n",
    "        \n",
    "    def forward(self, x):\n",
    "        x, channel_x = self.self_attn1(x)\n",
    "        x = F.relu(x)\n",
    "        x = F.relu(F.max_pool2d(self.conv1(x), 2))\n",
    "        x = F.relu(F.max_pool2d(self.conv2_drop(self.conv2(x)), 2))\n",
    "        x, p1 = self.attn1(x)\n",
    "        x = F.relu(F.max_pool2d(self.conv3(x), 2))\n",
    "        x, p2 = self.attn2(x)\n",
    "        x = x.view(-1, x.shape[1] * x.shape[2] * x.shape[3])\n",
    "        out = self.fc1(x)\n",
    "        \n",
    "#         return out, p1, p2, channel_x\n",
    "        return torch.sigmoid(out), p1, p2, channel_x\n",
    "        \n",
    "    "
   ]
  },
  {
   "cell_type": "code",
   "execution_count": 5,
   "id": "a992b250",
   "metadata": {},
   "outputs": [],
   "source": [
    "import pandas as pd\n",
    "\n",
    "model = CNN_Attn()\n",
    "DATASET_PATH = f\"{DATASET_DIR}/{DATASET_NAME}\"\n",
    "images_df = pd.read_csv(DATASET_PATH, index_col = [0])"
   ]
  },
  {
   "cell_type": "code",
   "execution_count": 6,
   "id": "489c99a5",
   "metadata": {},
   "outputs": [
    {
     "name": "stdout",
     "output_type": "stream",
     "text": [
      "(86242, 3)\n"
     ]
    }
   ],
   "source": [
    "print(images_df.shape)"
   ]
  },
  {
   "cell_type": "code",
   "execution_count": 14,
   "id": "2056d2f7",
   "metadata": {},
   "outputs": [],
   "source": [
    "from sklearn.model_selection import train_test_split\n",
    "\n",
    "train_df, test_df = train_test_split(images_df, test_size = 0.2)"
   ]
  },
  {
   "cell_type": "code",
   "execution_count": 15,
   "id": "926d104b",
   "metadata": {},
   "outputs": [
    {
     "name": "stdout",
     "output_type": "stream",
     "text": [
      "(68993, 3) (17249, 3)\n"
     ]
    }
   ],
   "source": [
    "print(train_df.shape, test_df.shape)"
   ]
  },
  {
   "cell_type": "code",
   "execution_count": 16,
   "id": "97613421",
   "metadata": {},
   "outputs": [],
   "source": [
    "from torch.utils.data import DataLoader\n",
    "\n",
    "training_dataset = CustomImageLoadingDataset(train_df, train_val_transforms)\n",
    "training_loader = DataLoader(training_dataset, batch_size = 16, shuffle = True)\n",
    "\n",
    "\n",
    "testing_dataset = CustomImageLoadingDataset(test_df, train_val_transforms)\n",
    "testing_loader = DataLoader(testing_dataset, batch_size = 16, shuffle = True)"
   ]
  },
  {
   "cell_type": "code",
   "execution_count": 81,
   "id": "6cb20a46",
   "metadata": {},
   "outputs": [],
   "source": [
    "from torch.optim import Adam\n",
    "import numpy as np\n",
    "from tqdm.notebook import tqdm\n",
    "\n",
    "def train_model(model, train_data, nb_epochs = 10):\n",
    "    model.train()\n",
    "    loss_fcn = nn.BCELoss()\n",
    "    \n",
    "    optimizer = Adam(model.parameters(), lr = 1e-4)\n",
    "    curr_loss = np.array([])\n",
    "    \n",
    "    for epoch in tqdm(range(nb_epochs)):\n",
    "        for idx, img_data in enumerate(train_data):\n",
    "            optimizer.zero_grad()\n",
    "            img, label, _ = img_data\n",
    "            res, _, _, _ = model(img)\n",
    "            res= res.float()\n",
    "#             res = torch.squeeze(res)\n",
    "            res = res.reshape((-1, ))\n",
    "            label = label.float()\n",
    "\n",
    "            loss = loss_fcn(res, label)\n",
    "\n",
    "            loss.backward()\n",
    "            optimizer.step()\n",
    "\n",
    "            curr_loss = np.append(curr_loss, loss.detach().numpy())\n",
    "        \n",
    "    return curr_loss"
   ]
  },
  {
   "cell_type": "code",
   "execution_count": 82,
   "id": "6a987768",
   "metadata": {},
   "outputs": [],
   "source": [
    "def evaluate(model, test_loader):\n",
    "    model.eval()\n",
    "    ground_truth, predictions = np.array([]), np.array([])\n",
    "    \n",
    "    with torch.no_grad():\n",
    "        for img_data in test_loader:\n",
    "            img, label, _  = img_data\n",
    "            preds, _, _, _ = model(img)\n",
    "            preds = preds.round()\n",
    "            \n",
    "            ground_truth = np.append(ground_truth, label.detach().numpy())\n",
    "            predictions = np.append(predictions, preds.detach().numpy())\n",
    "    \n",
    "    \n",
    "    return ground_truth, predictions"
   ]
  },
  {
   "cell_type": "code",
   "execution_count": 83,
   "id": "504fd0d8",
   "metadata": {},
   "outputs": [],
   "source": [
    "model = CNN_Attn()"
   ]
  },
  {
   "cell_type": "code",
   "execution_count": 84,
   "id": "6a2e74cf",
   "metadata": {},
   "outputs": [
    {
     "data": {
      "application/vnd.jupyter.widget-view+json": {
       "model_id": "67913e581fa34ac3887fc38a68cdff23",
       "version_major": 2,
       "version_minor": 0
      },
      "text/plain": [
       "  0%|          | 0/10 [00:00<?, ?it/s]"
      ]
     },
     "metadata": {},
     "output_type": "display_data"
    }
   ],
   "source": [
    "set_losses = train_model(model, training_loader)"
   ]
  },
  {
   "cell_type": "code",
   "execution_count": 85,
   "id": "39c1e43d",
   "metadata": {},
   "outputs": [],
   "source": [
    "ground_truth, predictions = evaluate(model, testing_loader)"
   ]
  },
  {
   "cell_type": "code",
   "execution_count": 86,
   "id": "ff660657",
   "metadata": {},
   "outputs": [
    {
     "name": "stdout",
     "output_type": "stream",
     "text": [
      "              precision    recall  f1-score   support\n",
      "\n",
      "         0.0       0.97      0.99      0.98      1425\n",
      "         1.0       1.00      1.00      1.00     15824\n",
      "\n",
      "    accuracy                           1.00     17249\n",
      "   macro avg       0.98      1.00      0.99     17249\n",
      "weighted avg       1.00      1.00      1.00     17249\n",
      "\n"
     ]
    }
   ],
   "source": [
    "from sklearn.metrics import classification_report\n",
    "\n",
    "print(classification_report(\n",
    "    ground_truth,\n",
    "    predictions\n",
    "))"
   ]
  },
  {
   "cell_type": "code",
   "execution_count": 88,
   "id": "77424b79",
   "metadata": {},
   "outputs": [
    {
     "name": "stdout",
     "output_type": "stream",
     "text": [
      "4313\n"
     ]
    }
   ],
   "source": [
    "print(len(training_loader))"
   ]
  },
  {
   "cell_type": "code",
   "execution_count": 89,
   "id": "4c4ef8b1",
   "metadata": {},
   "outputs": [
    {
     "name": "stdout",
     "output_type": "stream",
     "text": [
      "43130\n"
     ]
    }
   ],
   "source": [
    "print(len(set_losses))"
   ]
  },
  {
   "cell_type": "code",
   "execution_count": 92,
   "id": "6b06b7b5",
   "metadata": {},
   "outputs": [
    {
     "data": {
      "text/html": [
       "<div>\n",
       "<style scoped>\n",
       "    .dataframe tbody tr th:only-of-type {\n",
       "        vertical-align: middle;\n",
       "    }\n",
       "\n",
       "    .dataframe tbody tr th {\n",
       "        vertical-align: top;\n",
       "    }\n",
       "\n",
       "    .dataframe thead th {\n",
       "        text-align: right;\n",
       "    }\n",
       "</style>\n",
       "<table border=\"1\" class=\"dataframe\">\n",
       "  <thead>\n",
       "    <tr style=\"text-align: right;\">\n",
       "      <th></th>\n",
       "      <th>loss</th>\n",
       "    </tr>\n",
       "  </thead>\n",
       "  <tbody>\n",
       "    <tr>\n",
       "      <th>0</th>\n",
       "      <td>0.717997</td>\n",
       "    </tr>\n",
       "    <tr>\n",
       "      <th>1</th>\n",
       "      <td>0.707796</td>\n",
       "    </tr>\n",
       "    <tr>\n",
       "      <th>2</th>\n",
       "      <td>0.702777</td>\n",
       "    </tr>\n",
       "    <tr>\n",
       "      <th>3</th>\n",
       "      <td>0.705988</td>\n",
       "    </tr>\n",
       "    <tr>\n",
       "      <th>4</th>\n",
       "      <td>0.699487</td>\n",
       "    </tr>\n",
       "  </tbody>\n",
       "</table>\n",
       "</div>"
      ],
      "text/plain": [
       "       loss\n",
       "0  0.717997\n",
       "1  0.707796\n",
       "2  0.702777\n",
       "3  0.705988\n",
       "4  0.699487"
      ]
     },
     "execution_count": 92,
     "metadata": {},
     "output_type": "execute_result"
    }
   ],
   "source": [
    "df_losses = pd.DataFrame(columns = ['loss'])\n",
    "df_losses['loss'] = set_losses\n",
    "df_losses.head()"
   ]
  },
  {
   "cell_type": "code",
   "execution_count": null,
   "id": "2946c971",
   "metadata": {},
   "outputs": [],
   "source": [
    "df_losses.rolling(10)"
   ]
  },
  {
   "cell_type": "code",
   "execution_count": 101,
   "id": "e0ea6c51",
   "metadata": {},
   "outputs": [],
   "source": [
    "rolling_avg = df_losses['loss'].rolling(40)"
   ]
  },
  {
   "cell_type": "code",
   "execution_count": 102,
   "id": "2533fa12",
   "metadata": {},
   "outputs": [
    {
     "name": "stdout",
     "output_type": "stream",
     "text": [
      "39       0.599970\n",
      "40       0.592021\n",
      "41       0.586354\n",
      "42       0.581338\n",
      "43       0.575617\n",
      "           ...   \n",
      "43125    0.027169\n",
      "43126    0.027167\n",
      "43127    0.027079\n",
      "43128    0.027318\n",
      "43129    0.025447\n",
      "Name: loss, Length: 43091, dtype: float64\n"
     ]
    }
   ],
   "source": [
    "print(rolling_avg.mean().dropna())"
   ]
  },
  {
   "cell_type": "code",
   "execution_count": 108,
   "id": "65adaa37",
   "metadata": {},
   "outputs": [
    {
     "data": {
      "image/png": "[encoded data removed]",
      "text/plain": [
       "<Figure size 1080x576 with 1 Axes>"
      ]
     },
     "metadata": {},
     "output_type": "display_data"
    }
   ],
   "source": [
    "import seaborn as sns\n",
    "\n",
    "sns.set_theme(style = 'whitegrid')\n",
    "fig, ax = plt.subplots(figsize = (15, 8))\n",
    "plt.plot(rolling_avg.mean().dropna())\n",
    "plt.tick_params(labelsize = 24)\n",
    "plt.ylabel(\"Loss\", fontsize = 27)\n",
    "plt.xlabel(\"Batch Number\", fontsize = 27)\n",
    "plt.title(\"Training Loss of SA-CNN\", fontsize = 30)\n",
    "plt.savefig(\"../figures/loss_SA_CNN.png\", pad_inches = 0, bbox_inches = 'tight')\n",
    "plt.savefig(\"../figures/loss_SA_CNN.eps\", pad_inches = 0, bbox_inches = 'tight')"
   ]
  },
  {
   "cell_type": "code",
   "execution_count": null,
   "id": "7e3fb428",
   "metadata": {},
   "outputs": [],
   "source": []
  }
 ],
 "metadata": {
  "kernelspec": {
   "display_name": "Python 3 (ipykernel)",
   "language": "python",
   "name": "python3"
  },
  "language_info": {
   "codemirror_mode": {
    "name": "ipython",
    "version": 3
   },
   "file_extension": ".py",
   "mimetype": "text/x-python",
   "name": "python",
   "nbconvert_exporter": "python",
   "pygments_lexer": "ipython3",
   "version": "3.9.5"
  }
 },
 "nbformat": 4,
 "nbformat_minor": 5
}
